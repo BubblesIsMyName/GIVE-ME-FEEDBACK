{
 "cells": [
  {
   "cell_type": "markdown",
   "metadata": {},
   "source": [
    "# Train Classifier\n",
    "The following notebook trains a number of classifiers for hand gesture recognition"
   ]
  },
  {
   "cell_type": "markdown",
   "metadata": {},
   "source": [
    "Import the necessary dependencies"
   ]
  },
  {
   "cell_type": "code",
   "execution_count": null,
   "metadata": {},
   "outputs": [],
   "source": [
    "import pandas as pd\n",
    "# ML\n",
    "from sklearn.pipeline import make_pipeline \n",
    "from sklearn.preprocessing import StandardScaler \n",
    "from sklearn.linear_model import LogisticRegression, RidgeClassifier\n",
    "from sklearn.ensemble import RandomForestClassifier, GradientBoostingClassifier\n",
    "# Accuracy metrics \n",
    "from sklearn.metrics import accuracy_score \n",
    "# Loading and saving the models\n",
    "import pickle \n"
   ]
  },
  {
   "cell_type": "markdown",
   "metadata": {},
   "source": [
    "### Load the data\n",
    "Data on 3 gestures (peace, rock on and thumbs up) was collected, also data classified as other was colledcted. The \"other\" data was a collection of other random hand gestures excluding the gestures that were to be classified."
   ]
  },
  {
   "cell_type": "code",
   "execution_count": null,
   "metadata": {},
   "outputs": [],
   "source": [
    "from pathlib import Path\n",
    "csv_path_peace = Path.cwd().joinpath(\"data\",\"gesture_database\",\"gestures_peace.csv\")\n",
    "csv_path_rock_on = Path.cwd().joinpath(\"data\",\"gesture_database\",\"gestures_rock_on.csv\")\n",
    "csv_path_thumb_up = Path.cwd().joinpath(\"data\",\"gesture_database\",\"gestures_thumb_up.csv\")\n",
    "csv_path_other = Path.cwd().joinpath(\"data\",\"gesture_database\",\"gestures_other.csv\")\n",
    "df_peace = pd.read_csv(csv_path_peace)\n",
    "df_rock_on = pd.read_csv(csv_path_rock_on)\n",
    "df_thumb_up = pd.read_csv(csv_path_thumb_up)\n",
    "df_other = pd.read_csv(csv_path_other)"
   ]
  },
  {
   "cell_type": "markdown",
   "metadata": {},
   "source": [
    "Combine the training data into a singe dataframe.\n"
   ]
  },
  {
   "cell_type": "code",
   "execution_count": null,
   "metadata": {},
   "outputs": [],
   "source": [
    "df_peace.insert(0,\"class\",\"peace\")\n",
    "df_rock_on.insert(0,\"class\",\"rock_on\")\n",
    "df_thumb_up.insert(0,\"class\",\"thumb_up\")\n",
    "df_other.insert(0,\"class\",\"other\")\n",
    "frames = [df_peace,df_rock_on,df_thumb_up,df_other]\n",
    "df = pd.concat(frames)\n",
    "df[\"class\"].value_counts()"
   ]
  },
  {
   "cell_type": "markdown",
   "metadata": {},
   "source": [
    "# Create the Classification models"
   ]
  },
  {
   "cell_type": "code",
   "execution_count": null,
   "metadata": {},
   "outputs": [],
   "source": [
    "# correct the column names\n",
    "df.columns = ['class','x0','y0','z0','x1','y1','z1','x2','y2','z2','x3','y3','z3','x4','y4','z4','x5','y5','z5','x6','y6','z6','x7','y7','z7','x8','y8','z8','x9','y9','z9','x10','y10','z10','x11','y11','z11','x12','y12','z12','x13','y13','z13','x14','y14','z14','x15','y15','z15','x16','y16','z16','x17','y17','z17','x18','y18','z18','x19','y19','z19','x20','y20','z20']\n",
    "data_columns = df.columns.to_list()[1:] # seaparate just the data columns"
   ]
  },
  {
   "cell_type": "code",
   "execution_count": null,
   "metadata": {},
   "outputs": [],
   "source": [
    "# Split the data columns and the class columns\n",
    "X = df.loc[:,data_columns].copy(deep=True)    # features - xyz columns\n",
    "y = df.loc[:,\"class\"]                          # class"
   ]
  },
  {
   "cell_type": "markdown",
   "metadata": {},
   "source": [
    "Split the data set to test and train datasets"
   ]
  },
  {
   "cell_type": "code",
   "execution_count": null,
   "metadata": {},
   "outputs": [],
   "source": [
    "from sklearn.model_selection import train_test_split\n",
    "X_train, X_test, y_train, y_test = train_test_split(X, y, test_size=0.3, random_state=1234)"
   ]
  },
  {
   "cell_type": "markdown",
   "metadata": {},
   "source": [
    "### Train Machine Learning Classification Model"
   ]
  },
  {
   "cell_type": "code",
   "execution_count": null,
   "metadata": {},
   "outputs": [],
   "source": [
    "# Set the piplines for training the models\n",
    "pipelines = {\n",
    "    'lr':make_pipeline(StandardScaler(), LogisticRegression()),\n",
    "    'rc':make_pipeline(StandardScaler(), RidgeClassifier()),\n",
    "    'rf':make_pipeline(StandardScaler(), RandomForestClassifier()),\n",
    "    'gb':make_pipeline(StandardScaler(), GradientBoostingClassifier()),\n",
    "}"
   ]
  },
  {
   "cell_type": "markdown",
   "metadata": {},
   "source": [
    "Train the models"
   ]
  },
  {
   "cell_type": "code",
   "execution_count": null,
   "metadata": {},
   "outputs": [],
   "source": [
    "fit_models = {}\n",
    "for algo, pipeline in pipelines.items():\n",
    "    model = pipeline.fit(X_train, y_train)\n",
    "    fit_models[algo] = model"
   ]
  },
  {
   "cell_type": "markdown",
   "metadata": {},
   "source": [
    "### Evaluate and Serialize Model "
   ]
  },
  {
   "cell_type": "code",
   "execution_count": null,
   "metadata": {},
   "outputs": [],
   "source": [
    "results = {} # dictionary of the results\n",
    "for algo, model in fit_models.items():\n",
    "    yhat = model.predict(X_test)\n",
    "    results[algo] = round(accuracy_score(y_test, yhat),2)*100\n",
    "print(results)"
   ]
  },
  {
   "cell_type": "code",
   "execution_count": null,
   "metadata": {},
   "outputs": [],
   "source": [
    "# Save the models\n",
    "for model in results:\n",
    "    model_path =  Path.cwd().joinpath(\"data\",\"models\",f\"gestures_{model}_{results[model]}.pkl\")\n",
    "    with open(model_path, 'wb') as f:\n",
    "        pickle.dump(fit_models[model], f)"
   ]
  }
 ],
 "metadata": {
  "kernelspec": {
   "display_name": "Python 3.8.10 ('htm-env': venv)",
   "language": "python",
   "name": "python3"
  },
  "language_info": {
   "codemirror_mode": {
    "name": "ipython",
    "version": 3
   },
   "file_extension": ".py",
   "mimetype": "text/x-python",
   "name": "python",
   "nbconvert_exporter": "python",
   "pygments_lexer": "ipython3",
   "version": "3.8.10"
  },
  "vscode": {
   "interpreter": {
    "hash": "f74de5d5a50b8e6cbbdf1019bc450c926a4f2b68c1213ab9a4b105e83950cb73"
   }
  }
 },
 "nbformat": 4,
 "nbformat_minor": 2
}
